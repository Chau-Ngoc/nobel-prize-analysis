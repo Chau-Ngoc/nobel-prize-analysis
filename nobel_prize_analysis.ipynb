{
 "cells": [
  {
   "cell_type": "code",
   "execution_count": null,
   "metadata": {},
   "outputs": [],
   "source": []
  }
 ],
 "metadata": {
  "interpreter": {
   "hash": "fc067e8d4fbf9d658e4abf5f9b7e970776956618844b06ee70e42c2a5aa2966b"
  },
  "kernelspec": {
   "display_name": "Python 3.9.7 64-bit ('data-science-web': conda)",
   "language": "python",
   "name": "python3"
  },
  "language_info": {
   "name": "python",
   "version": "3.9.7"
  },
  "orig_nbformat": 4
 },
 "nbformat": 4,
 "nbformat_minor": 2
}
